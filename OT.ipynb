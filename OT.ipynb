{
  "nbformat": 4,
  "nbformat_minor": 0,
  "metadata": {
    "colab": {
      "provenance": []
    },
    "kernelspec": {
      "name": "python3",
      "display_name": "Python 3"
    },
    "language_info": {
      "name": "python"
    }
  },
  "cells": [
    {
      "cell_type": "code",
      "execution_count": 2,
      "metadata": {
        "colab": {
          "base_uri": "https://localhost:8080/"
        },
        "id": "dwr2rFfTOns1",
        "outputId": "421efcfd-69ca-4604-9c83-415181801014"
      },
      "outputs": [
        {
          "output_type": "stream",
          "name": "stdout",
          "text": [
            "Optimal Transportation Plan:\n",
            "[[  0. 300.   0.   0.]\n",
            " [250.   0. 150.   0.]\n",
            " [  0.  50. 250. 200.]]\n",
            "Total Transportation Cost: 2850.0\n"
          ]
        }
      ],
      "source": [
        "import numpy as np\n",
        "\n",
        "def vogel_approximation_method(supply, demand, costs):\n",
        "    # Convert costs to float to handle np.inf assignments\n",
        "    costs = costs.astype(float)\n",
        "    transportation_plan = np.zeros_like(costs)\n",
        "    total_cost = 0\n",
        "\n",
        "    # Keep track of remaining supply and demand\n",
        "    remaining_supply = supply.copy()\n",
        "    remaining_demand = demand.copy()\n",
        "\n",
        "    while np.sum(remaining_supply) > 0 and np.sum(remaining_demand) > 0:\n",
        "        # Calculate row and column penalties\n",
        "        row_penalties = []\n",
        "        col_penalties = []\n",
        "\n",
        "        # Calculate row penalties\n",
        "        for i in range(costs.shape[0]):\n",
        "            if remaining_supply[i] > 0:\n",
        "                row_cost = costs[i, :]\n",
        "                valid_cost = sorted([cost for cost in row_cost if cost != np.inf])\n",
        "                if len(valid_cost) > 1:\n",
        "                    row_penalties.append(valid_cost[1] - valid_cost[0])\n",
        "                else:\n",
        "                    row_penalties.append(0)\n",
        "            else:\n",
        "                row_penalties.append(-1)  # Mark as exhausted\n",
        "\n",
        "        # Calculate column penalties\n",
        "        for j in range(costs.shape[1]):\n",
        "            if remaining_demand[j] > 0:\n",
        "                col_cost = costs[:, j]\n",
        "                valid_cost = sorted([cost for cost in col_cost if cost != np.inf])\n",
        "                if len(valid_cost) > 1:\n",
        "                    col_penalties.append(valid_cost[1] - valid_cost[0])\n",
        "                else:\n",
        "                    col_penalties.append(0)\n",
        "            else:\n",
        "                col_penalties.append(-1)  # Mark as exhausted\n",
        "\n",
        "        # Determine whether to consider row or column penalty\n",
        "        max_row_penalty = max([penalty for penalty in row_penalties if penalty >= 0], default=-1)\n",
        "        max_col_penalty = max([penalty for penalty in col_penalties if penalty >= 0], default=-1)\n",
        "\n",
        "        if max_row_penalty >= max_col_penalty:\n",
        "            row_idx = row_penalties.index(max_row_penalty)\n",
        "            col_idx = np.argmin(costs[row_idx, :])  # Choose the lowest cost in the row\n",
        "        else:\n",
        "            col_idx = col_penalties.index(max_col_penalty)\n",
        "            row_idx = np.argmin(costs[:, col_idx])  # Choose the lowest cost in the column\n",
        "\n",
        "        # Allocate the supply and demand\n",
        "        allocated = min(remaining_supply[row_idx], remaining_demand[col_idx])\n",
        "        transportation_plan[row_idx, col_idx] = allocated\n",
        "        total_cost += allocated * costs[row_idx, col_idx]\n",
        "\n",
        "        # Update supply and demand\n",
        "        remaining_supply[row_idx] -= allocated\n",
        "        remaining_demand[col_idx] -= allocated\n",
        "\n",
        "        # Mark exhausted rows and columns as np.inf\n",
        "        if remaining_supply[row_idx] == 0:\n",
        "            costs[row_idx, :] = np.inf\n",
        "        if remaining_demand[col_idx] == 0:\n",
        "            costs[:, col_idx] = np.inf\n",
        "\n",
        "    return transportation_plan, total_cost\n",
        "\n",
        "# Example usage\n",
        "supply = np.array([300, 400, 500])\n",
        "demand = np.array([250, 350, 400, 200])\n",
        "costs = np.array([\n",
        "    [3, 1, 7, 4],\n",
        "    [2, 6, 5, 9],\n",
        "    [8, 3, 3, 2]\n",
        "])\n",
        "\n",
        "plan, cost = vogel_approximation_method(supply, demand, costs)\n",
        "print(\"Optimal Transportation Plan:\")\n",
        "print(plan)\n",
        "print(\"Total Transportation Cost:\", cost)"
      ]
    },
    {
      "cell_type": "code",
      "source": [
        "import numpy as np\n",
        "from scipy.optimize import linear_sum_assignment\n",
        "\n",
        "def assignment_problem():\n",
        "    print(\"\\nAssignment Problem Solver (Hungarian Algorithm)\")\n",
        "    print(\"---------------------------------------------\")\n",
        "\n",
        "    n = int(input(\"Enter number of workers/jobs: \"))\n",
        "\n",
        "    print(\"\\nEnter cost matrix (row = workers, column = jobs):\")\n",
        "    cost_matrix = []\n",
        "    for i in range(n):\n",
        "        row = list(map(float, input(f\"Costs for worker {i+1} (space-separated): \").split()))\n",
        "        cost_matrix.append(row)\n",
        "    cost_matrix = np.array(cost_matrix)\n",
        "\n",
        "    # Solve using Hungarian Algorithm\n",
        "    row_ind, col_ind = linear_sum_assignment(cost_matrix)\n",
        "    total_cost = cost_matrix[row_ind, col_ind].sum()\n",
        "\n",
        "    print(\"\\nOptimal Assignments:\")\n",
        "    for worker, job in zip(row_ind, col_ind):\n",
        "        print(f\"Worker {worker+1} → Job {job+1} (Cost: {cost_matrix[worker][job]:.2f})\")\n",
        "    print(f\"Total Minimum Cost: {total_cost:.2f}\")\n",
        "\n",
        "assignment_problem()"
      ],
      "metadata": {
        "colab": {
          "base_uri": "https://localhost:8080/"
        },
        "id": "3oXMBZWpOvVK",
        "outputId": "6576d22f-765d-4d56-ef45-582a0e4b92d1"
      },
      "execution_count": 3,
      "outputs": [
        {
          "output_type": "stream",
          "name": "stdout",
          "text": [
            "\n",
            "Assignment Problem Solver (Hungarian Algorithm)\n",
            "---------------------------------------------\n",
            "Enter number of workers/jobs: 3\n",
            "\n",
            "Enter cost matrix (row = workers, column = jobs):\n",
            "Costs for worker 1 (space-separated): 1 2 3\n",
            "Costs for worker 2 (space-separated): 3 2 1\n",
            "Costs for worker 3 (space-separated): 2 5 6\n",
            "\n",
            "Optimal Assignments:\n",
            "Worker 1 → Job 2 (Cost: 2.00)\n",
            "Worker 2 → Job 3 (Cost: 1.00)\n",
            "Worker 3 → Job 1 (Cost: 2.00)\n",
            "Total Minimum Cost: 5.00\n"
          ]
        }
      ]
    },
    {
      "cell_type": "code",
      "source": [
        "import math\n",
        "\n",
        "def eoq():\n",
        "    print(\"\\nEconomic Order Quantity (EOQ) Calculator\")\n",
        "    print(\"---------------------------------------\")\n",
        "\n",
        "    A = float(input(\"Enter annual demand (units): \"))\n",
        "    B = float(input(\"Enter ordering cost per order ($): \"))\n",
        "    C = float(input(\"Enter holding cost per unit/year ($): \"))\n",
        "\n",
        "    eoq = math.sqrt((2 * A * B) / C)\n",
        "    orders_per_year = A / eoq\n",
        "    total_cost = (A * B / eoq) + (C * eoq / 2)\n",
        "\n",
        "    print(\"\\nResults:\")\n",
        "    print(f\"Optimal Order Quantity (EOQ): {eoq:.2f} units\")\n",
        "    print(f\"Number of Orders/Year: {orders_per_year:.2f}\")\n",
        "    print(f\"Total Annual Inventory Cost: ${total_cost:.2f}\")\n",
        "\n",
        "eoq()"
      ],
      "metadata": {
        "colab": {
          "base_uri": "https://localhost:8080/"
        },
        "id": "WRLweM93Oze9",
        "outputId": "63389553-fe80-4f50-9739-e5809d4ab0f1"
      },
      "execution_count": 6,
      "outputs": [
        {
          "output_type": "stream",
          "name": "stdout",
          "text": [
            "\n",
            "Economic Order Quantity (EOQ) Calculator\n",
            "---------------------------------------\n",
            "Enter annual demand (units): 1000\n",
            "Enter ordering cost per order ($): 5\n",
            "Enter holding cost per unit/year ($): 2\n",
            "\n",
            "Results:\n",
            "Optimal Order Quantity (EOQ): 70.71 units\n",
            "Number of Orders/Year: 14.14\n",
            "Total Annual Inventory Cost: $141.42\n"
          ]
        }
      ]
    },
    {
      "cell_type": "code",
      "source": [
        "def knapsack(weights, values, capacity):\n",
        "    n = len(weights)  # number of items\n",
        "    # Create a DP table with (n+1) rows and (capacity+1) columns\n",
        "    dp = [[0] * (capacity + 1) for _ in range(n + 1)]\n",
        "\n",
        "    # Build the DP table\n",
        "    for i in range(1, n + 1):\n",
        "        for w in range(1, capacity + 1):\n",
        "            if weights[i - 1] <= w:  # if the item can be included\n",
        "                # Max of not including or including the item\n",
        "                dp[i][w] = max(dp[i - 1][w], dp[i - 1][w - weights[i - 1]] + values[i - 1])\n",
        "            else:\n",
        "                dp[i][w] = dp[i - 1][w]\n",
        "\n",
        "    # The bottom-right cell contains the maximum value we can get\n",
        "    return dp[n][capacity]\n",
        "\n",
        "# Example usage\n",
        "weights = [2, 3, 4, 5]  # Weights of the items\n",
        "values = [3, 4, 5, 6]   # Values of the items\n",
        "capacity = 5            # Capacity of the knapsack\n",
        "\n",
        "max_value = knapsack(weights, values, capacity)\n",
        "print(f\"Maximum value that can be obtained: {max_value}\")"
      ],
      "metadata": {
        "colab": {
          "base_uri": "https://localhost:8080/"
        },
        "id": "UgHeaH2QO3OZ",
        "outputId": "60f33b65-94aa-44d4-c242-f070947d4f2e"
      },
      "execution_count": 8,
      "outputs": [
        {
          "output_type": "stream",
          "name": "stdout",
          "text": [
            "Maximum value that can be obtained: 7\n"
          ]
        }
      ]
    },
    {
      "cell_type": "code",
      "source": [
        "from scipy.optimize import linprog\n",
        "\n",
        "# Coefficients of the objective function (maximize revenue)\n",
        "c = [-5, -3]  # negative because linprog minimizes by default\n",
        "\n",
        "# Coefficients of the inequality constraints (LHS)\n",
        "A = [\n",
        "    [2, 1],  # 2x + y <= 500\n",
        "    [1, 1]   # x + y <= 400\n",
        "]\n",
        "\n",
        "# RHS of the inequality constraints\n",
        "b = [500, 400]\n",
        "\n",
        "# Coefficients of the lower bounds (demand constraints)\n",
        "x_bounds = (100, None)  # x >= 100\n",
        "y_bounds = (50, None)   # y >= 50\n",
        "\n",
        "# Solve the linear programming problem\n",
        "result = linprog(c, A_ub=A, b_ub=b, bounds=[x_bounds, y_bounds], method='highs')\n",
        "\n",
        "# Output the result\n",
        "print(\"Optimal number of chocolate cakes (x):\", result.x[0])\n",
        "print(\"Optimal number of vanilla cakes (y):\", result.x[1])\n",
        "print(\"Maximum revenue:\", -result.fun)"
      ],
      "metadata": {
        "colab": {
          "base_uri": "https://localhost:8080/"
        },
        "id": "MLHrfY1yO9DZ",
        "outputId": "37b300bb-2f4b-44b1-abe1-30f8f351496b"
      },
      "execution_count": 9,
      "outputs": [
        {
          "output_type": "stream",
          "name": "stdout",
          "text": [
            "Optimal number of chocolate cakes (x): 100.0\n",
            "Optimal number of vanilla cakes (y): 300.0\n",
            "Maximum revenue: 1400.0\n"
          ]
        }
      ]
    },
    {
      "cell_type": "code",
      "source": [
        "import numpy as np\n",
        "\n",
        "def simplex(c, A, b):\n",
        "\n",
        "    num_vars = len(c)\n",
        "    num_constraints = len(b)\n",
        "\n",
        "    tableau = np.zeros((num_constraints + 1, num_vars + num_constraints + 1))\n",
        "\n",
        "    for i in range(num_constraints):\n",
        "        tableau[i, :num_vars] = A[i]\n",
        "        tableau[i, num_vars + i] = 1\n",
        "        tableau[i, -1] = b[i]\n",
        "\n",
        "    tableau[-1, :num_vars] = -c\n",
        "\n",
        "    while np.any(tableau[-1, :-1] < 0):\n",
        "\n",
        "        pivot_col = np.argmin(tableau[-1, :-1])\n",
        "\n",
        "        ratios = tableau[:-1, -1] / tableau[:-1, pivot_col]\n",
        "        ratios[ratios < 0] = np.inf\n",
        "        pivot_row = np.argmin(ratios)\n",
        "\n",
        "        pivot_value = tableau[pivot_row, pivot_col]\n",
        "        tableau[pivot_row, :] /= pivot_value\n",
        "\n",
        "        for i in range(num_constraints + 1):\n",
        "            if i != pivot_row:\n",
        "                tableau[i, :] -= tableau[i, pivot_col] * tableau[pivot_row, :]\n",
        "\n",
        "    optimal_solution = tableau[:-1, -1]\n",
        "    max_value = tableau[-1, -1]\n",
        "\n",
        "    return optimal_solution, max_value\n",
        "\n",
        "c = np.array([2, 3, 1])\n",
        "\n",
        "A = np.array([\n",
        "    [1, 1, 1],\n",
        "    [1, 2, -1]\n",
        "])\n",
        "\n",
        "b = np.array([4, 2])\n",
        "\n",
        "optimal_solution, max_value = simplex(c, A, b)\n",
        "\n",
        "print(\"Optimal solution (u1, u2, u3):\", optimal_solution)\n",
        "print(\"Maximum profit:\", max_value)"
      ],
      "metadata": {
        "colab": {
          "base_uri": "https://localhost:8080/"
        },
        "id": "6iML-qW5O-BS",
        "outputId": "c6c85462-150f-4367-fb00-be3a7365f095"
      },
      "execution_count": 10,
      "outputs": [
        {
          "output_type": "stream",
          "name": "stdout",
          "text": [
            "Optimal solution (u1, u2, u3): [2. 2.]\n",
            "Maximum profit: 8.0\n"
          ]
        }
      ]
    },
    {
      "cell_type": "code",
      "source": [
        "def totalCost(mask, curr, n, cost, memo, path_tracker):\n",
        "    if mask == (1 << n) - 1:        # if all cities are visited, return the cost to return to the starting city (0)\n",
        "        return cost[curr][0]\n",
        "\n",
        "    if memo[curr][mask] != -1:\n",
        "        return memo[curr][mask]\n",
        "\n",
        "    ans = float('inf')\n",
        "    best_next_city = -1\n",
        "    for i in range(n):      # visiting every city that has not been visited yet\n",
        "        if (mask & (1 << i)) == 0:\n",
        "\n",
        "          # If city i is not visited\n",
        "          # Visit city i and update the mask\n",
        "            result = cost[curr][i] + totalCost(mask | (1 << i), i, n, cost, memo, path_tracker)\n",
        "            if result < ans:\n",
        "                ans = result\n",
        "                best_next_city = i\n",
        "\n",
        "    # Memoize the result\n",
        "    memo[curr][mask] = ans\n",
        "    # Track the best path\n",
        "    path_tracker[curr][mask] = best_next_city\n",
        "    return ans\n",
        "\n",
        "\n",
        "def reconstructPath(n, cost, memo, path_tracker):\n",
        "    mask = 1  # start with city 0 visited\n",
        "    curr = 0\n",
        "    path = [curr]\n",
        "    while True:\n",
        "        next_city = path_tracker[curr][mask]\n",
        "        if next_city == -1:\n",
        "            break\n",
        "        path.append(next_city)\n",
        "        mask |= (1 << next_city)\n",
        "        curr = next_city\n",
        "    return path\n",
        "\n",
        "\n",
        "def tsp(cost):\n",
        "    n = len(cost)\n",
        "\n",
        "    # Initialize memoization table with -1\n",
        "    # (indicating uncomputed states)\n",
        "    memo = [[-1] * (1 << n) for _ in range(n)]\n",
        "    # Initialize path tracker to store the best path at each step\n",
        "    path_tracker = [[-1] * (1 << n) for _ in range(n)]\n",
        "\n",
        "    # Start from city 0, with only city 0 visited initially (mask = 1)\n",
        "    total_cost = totalCost(1, 0, n, cost, memo, path_tracker)\n",
        "    # Reconstruct the optimal path\n",
        "    path = reconstructPath(n, cost, memo, path_tracker)\n",
        "    return total_cost, path\n",
        "\n",
        "\n",
        "# Example cost matrix\n",
        "cost = [\n",
        "    [0, 10, 15, 20],\n",
        "    [10, 0, 35, 25],\n",
        "    [15, 35, 0, 30],\n",
        "    [20, 25, 30, 0]\n",
        "]\n",
        "\n",
        "# Call tsp function to get the minimum cost and the optimal path\n",
        "total_cost, path = tsp(cost)\n",
        "\n",
        "print(f\"Minimum Cost: {total_cost}\")\n",
        "print(f\"Optimal Path: {path}\")"
      ],
      "metadata": {
        "colab": {
          "base_uri": "https://localhost:8080/"
        },
        "id": "gDsiPS5iPEZs",
        "outputId": "da7b51e6-5b4c-42cb-a0f7-359d96bb5288"
      },
      "execution_count": 11,
      "outputs": [
        {
          "output_type": "stream",
          "name": "stdout",
          "text": [
            "Minimum Cost: 80\n",
            "Optimal Path: [0, 1, 3, 2]\n"
          ]
        }
      ]
    },
    {
      "cell_type": "code",
      "source": [
        "from scipy.optimize import linprog\n",
        "\n",
        "# Coefficients of the objective function (profit)\n",
        "c = [-200, -150]  # Negating to convert maximization to minimization\n",
        "\n",
        "# Coefficients of the inequality constraints (Ax <= b)\n",
        "A = [\n",
        "    [1, 1],         # x + y <= 60 (Total land constraint)\n",
        "    [20, 10],       # 20x + 10y <= 1200 (Fertilizer constraint)\n",
        "    [10, 15],       # 10x + 15y <= 600 (Insecticide constraint)\n",
        "]\n",
        "\n",
        "# Right-hand side of the constraints\n",
        "b = [60, 1200, 600]\n",
        "\n",
        "# Bounds for x and y (Non-negativity and minimum acres constraints)\n",
        "x_bounds = (20, None)  # At least 20 acres of wheat\n",
        "y_bounds = (10, None)  # At least 10 acres of barley\n",
        "\n",
        "# Solve the LP problem\n",
        "result = linprog(c, A_ub=A, b_ub=b, bounds=[x_bounds, y_bounds], method='highs')\n",
        "\n",
        "# Output the results\n",
        "if result.success:\n",
        "    x_opt = result.x[0]  # Optimal number of acres of wheat\n",
        "    y_opt = result.x[1]  # Optimal number of acres of barley\n",
        "    max_profit = -result.fun  # Convert back to the actual profit (negated in the objective)\n",
        "\n",
        "    print(f\"Optimal number of acres of wheat: {x_opt:.2f}\")\n",
        "    print(f\"Optimal number of acres of barley: {y_opt:.2f}\")\n",
        "    print(f\"Maximum profit: ${max_profit:.2f}\")\n",
        "else:\n",
        "    print(\"No solution found.\")"
      ],
      "metadata": {
        "colab": {
          "base_uri": "https://localhost:8080/"
        },
        "id": "mz40Fr4EPH54",
        "outputId": "4f3142fa-e0dd-4955-f888-7d5a8ea7ae60"
      },
      "execution_count": 12,
      "outputs": [
        {
          "output_type": "stream",
          "name": "stdout",
          "text": [
            "Optimal number of acres of wheat: 45.00\n",
            "Optimal number of acres of barley: 10.00\n",
            "Maximum profit: $10500.00\n"
          ]
        }
      ]
    },
    {
      "cell_type": "code",
      "source": [
        "from scipy.optimize import linprog\n",
        "\n",
        "# Coefficients of the objective function (profit)\n",
        "c = [-20, -30]  # Negating to convert maximization to minimization\n",
        "\n",
        "# Coefficients of the inequality constraints (Ax <= b)\n",
        "A = [\n",
        "    [1, 5],  # x + 5y <= 125 (Wood constraint)\n",
        "    [3, 1],  # 3x + y <= 80 (Metal constraint)\n",
        "]\n",
        "\n",
        "# Right-hand side of the constraints\n",
        "b = [125, 80]\n",
        "\n",
        "# Bounds for x and y (non-negativity constraint)\n",
        "x_bounds = (0, None)\n",
        "y_bounds = (0, None)\n",
        "\n",
        "# Solve the LP problem\n",
        "result = linprog(c, A_ub=A, b_ub=b, bounds=[x_bounds, y_bounds], method='highs')\n",
        "\n",
        "# Output the results\n",
        "if result.success:\n",
        "    x_opt = result.x[0]  # Optimal number of chairs\n",
        "    y_opt = result.x[1]  # Optimal number of tables\n",
        "    max_profit = -result.fun  # Convert back to the actual profit (negated in the objective)\n",
        "\n",
        "    print(f\"Optimal number of chairs: {int(x_opt)}\")\n",
        "    print(f\"Optimal number of tables: {int(y_opt)}\")\n",
        "    print(f\"Maximum profit: ${max_profit:.2f}\")\n",
        "else:\n",
        "    print(\"No solution found.\")"
      ],
      "metadata": {
        "colab": {
          "base_uri": "https://localhost:8080/"
        },
        "id": "Iir09fsnPLEx",
        "outputId": "56f6e996-d68e-4a00-a518-737c04f8ab24"
      },
      "execution_count": 13,
      "outputs": [
        {
          "output_type": "stream",
          "name": "stdout",
          "text": [
            "Optimal number of chairs: 19\n",
            "Optimal number of tables: 21\n",
            "Maximum profit: $1025.00\n"
          ]
        }
      ]
    }
  ]
}